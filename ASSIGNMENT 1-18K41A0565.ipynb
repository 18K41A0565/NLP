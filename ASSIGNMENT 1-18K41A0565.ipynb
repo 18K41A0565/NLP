{
 "cells": [
  {
   "cell_type": "markdown",
   "metadata": {},
   "source": [
    "# 1. Split the above paragraph into sentences"
   ]
  },
  {
   "cell_type": "code",
   "execution_count": 20,
   "metadata": {
    "id": "wOSJIwOM5Cqg",
    "outputId": "5138013d-81b7-4ccd-8b01-8c5817a882bf"
   },
   "outputs": [
    {
     "name": "stdout",
     "output_type": "stream",
     "text": [
      "['Are  you  fascinated  by  the  amount  of  text  data  available  on  the  internet?', 'Are  you \\nlooking  for  ways  to  work  with  this  text  data  but  aren’t  sure  where  to  begin?', 'Machines, after all, recognize numbers, not the letters of our language.', 'And that can \\nbe a tricky landscape to navigate in machine learning.']\n"
     ]
    }
   ],
   "source": [
    "from nltk.tokenize import sent_tokenize\n",
    "data = '''Are  you  fascinated  by  the  amount  of  text  data  available  on  the  internet?  Are  you \n",
    "looking  for  ways  to  work  with  this  text  data  but  aren’t  sure  where  to  begin? \n",
    "Machines, after all, recognize numbers, not the letters of our language. And that can \n",
    "be a tricky landscape to navigate in machine learning.'''\n",
    "print(sent_tokenize(data))"
   ]
  },
  {
   "cell_type": "markdown",
   "metadata": {},
   "source": [
    "# 2. Split the above paragraph into words"
   ]
  },
  {
   "cell_type": "code",
   "execution_count": 24,
   "metadata": {
    "id": "GGpbrVxh5Cql",
    "outputId": "264731e5-6b23-4ed4-d36b-b3b97cb6c536"
   },
   "outputs": [
    {
     "name": "stdout",
     "output_type": "stream",
     "text": [
      "['Are', 'you', 'fascinated', 'by', 'the', 'amount', 'of', 'text', 'data', 'available', 'on', 'the', 'internet', '?', 'Are', 'you', 'looking', 'for', 'ways', 'to', 'work', 'with', 'this', 'text', 'data', 'but', 'aren', '’', 't', 'sure', 'where', 'to', 'begin', '?', 'Machines', ',', 'after', 'all', ',', 'recognize', 'numbers', ',', 'not', 'the', 'letters', 'of', 'our', 'language', '.', 'And', 'that', 'can', 'be', 'a', 'tricky', 'landscape', 'to', 'navigate', 'in', 'machine', 'learning', '.']\n"
     ]
    }
   ],
   "source": [
    "from nltk.tokenize import word_tokenize\n",
    "data =  '''Are  you  fascinated  by  the  amount  of  text  data  available  on  the  internet?  Are  you \n",
    "looking  for  ways  to  work  with  this  text  data  but  aren’t  sure  where  to  begin? \n",
    "Machines, after all, recognize numbers, not the letters of our language. And that can \n",
    "be a tricky landscape to navigate in machine learning.'''\n",
    "print(word_tokenize(data))"
   ]
  },
  {
   "cell_type": "markdown",
   "metadata": {},
   "source": [
    "# 3. Find stem and lemma words for the given words?"
   ]
  },
  {
   "cell_type": "code",
   "execution_count": 25,
   "metadata": {
    "id": "BICOneNW5Cqm",
    "outputId": "a071e79c-34a1-4fa3-df60-1b496c5d3b7e"
   },
   "outputs": [
    {
     "name": "stdout",
     "output_type": "stream",
     "text": [
      "stemming for :\n",
      "   cats is cat\n",
      "   trouble is troubl\n",
      "   troubling is troubl\n",
      "   troubled is troubl\n",
      "   having is have\n",
      "   Corriendo is corriendo\n",
      "   at is at\n",
      "   was is wa\n"
     ]
    }
   ],
   "source": [
    "import nltk\n",
    "from nltk.stem.porter import PorterStemmer\n",
    "porter_stemmer  = PorterStemmer()\n",
    "words = ['cats','trouble','troubling','troubled','having','Corriendo','at','was']\n",
    "print(\"stemming for :\")\n",
    "for w in words:\n",
    "    print(\"   {} is {}\".format(w,porter_stemmer.stem(w)))  "
   ]
  },
  {
   "cell_type": "code",
   "execution_count": 26,
   "metadata": {
    "id": "FLhBRiVI5Cqn",
    "outputId": "e7ea2f45-d643-4c2a-95c3-eb2e51cc3bd2"
   },
   "outputs": [
    {
     "name": "stdout",
     "output_type": "stream",
     "text": [
      "lemma for :\n",
      "   cats is cats\n",
      "   trouble is trouble\n",
      "   troubling is troubling\n",
      "   troubled is troubled\n",
      "   having is having\n",
      "   Corriendo is Corriendo\n",
      "   at is at\n",
      "   was is was\n"
     ]
    }
   ],
   "source": [
    "import nltk\n",
    "from nltk.stem import WordNetLemmatizer\n",
    "wordnet_lemmatizer = WordNetLemmatizer()\n",
    "words = ['cats','trouble','troubling','troubled','having','Corriendo','at','was']\n",
    "print(\"lemma for :\")\n",
    "for w in words:\n",
    "    print(\"   {} is {}\".format(w,w, wordnet_lemmatizer.lemmatize(w)))  "
   ]
  },
  {
   "cell_type": "markdown",
   "metadata": {},
   "source": [
    "# 4. Find stop words from the given paragraph?"
   ]
  },
  {
   "cell_type": "code",
   "execution_count": 27,
   "metadata": {
    "id": "aLYIOyGr5Cqn",
    "outputId": "8c515a35-86b3-4319-efb6-6c53b06ca5b4"
   },
   "outputs": [
    {
     "name": "stdout",
     "output_type": "stream",
     "text": [
      "['NLTK', 'library', 'one', 'oldest', 'commonly', 'used', 'Python', 'libraries', 'Natural', 'Language', 'Processing', '.', 'NLTK', 'supports', 'stop', 'word', 'removal', ',', 'find', 'list', 'stop', 'words', 'corpus', 'module', '.', 'To', 'remove', 'stop', 'words', 'sentence', ',', 'divide', 'text', 'words', 'remove', 'word', 'exits', 'list', 'stop', 'words', 'provided', 'NLTK', '.']\n"
     ]
    }
   ],
   "source": [
    "\n",
    "from nltk.corpus import stopwords\n",
    "from nltk.tokenize import word_tokenize\n",
    " \n",
    "para = '''he NLTK library  is  one  of  the  oldest  and  most  commonly  used  Python  libraries  for \n",
    "Natural Language Processing. NLTK supports stop word removal, and you can find the list \n",
    "of stop words in the  corpus  module. To remove stop words from a sentence, you can divide \n",
    "your text into words and then remove the word if it exits in the list of stop words provided \n",
    "by NLTK.'''\n",
    " \n",
    "stopwords = set(stopwords.words('english'))\n",
    " \n",
    "words = word_tokenize(para)\n",
    " \n",
    "res = [w for w in words if not w.lower() in stopwords]\n",
    " \n",
    "res = []\n",
    " \n",
    "for w in words:\n",
    "    if w not in stopwords:\n",
    "        res.append(w)\n",
    " \n",
    "#print(words)\n",
    "print(res)"
   ]
  },
  {
   "cell_type": "markdown",
   "metadata": {},
   "source": [
    "# 5. From the above paragraph print frequency of each word using NLTK?"
   ]
  },
  {
   "cell_type": "code",
   "execution_count": 28,
   "metadata": {
    "id": "sCSXL_Pi5Cqo",
    "outputId": "ba88e721-33d6-402d-cefc-608665488a8a"
   },
   "outputs": [
    {
     "name": "stdout",
     "output_type": "stream",
     "text": [
      "Language: 1\n",
      "NLTK: 3\n",
      "Natural: 1\n",
      "Processing: 1\n",
      "Python: 1\n",
      "commonly: 1\n",
      "corpus: 1\n",
      "divide: 1\n",
      "exits: 1\n",
      "find: 1\n",
      "from: 1\n",
      "into: 1\n",
      "libraries: 1\n",
      "library: 1\n",
      "list: 2\n",
      "module: 1\n",
      "most: 1\n",
      "oldest: 1\n",
      "provided: 1\n",
      "removal: 1\n",
      "remove: 2\n",
      "sentence: 1\n",
      "stop: 4\n",
      "supports: 1\n",
      "text: 1\n",
      "then: 1\n",
      "used: 1\n",
      "word: 2\n",
      "words: 4\n",
      "your: 1\n"
     ]
    }
   ],
   "source": [
    "import nltk\n",
    "from nltk.corpus import webtext\n",
    "from nltk.probability import FreqDist\n",
    "from nltk.tokenize import word_tokenize\n",
    "\n",
    "para = '''he NLTK library  is  one  of  the  oldest  and  most  commonly  used  Python  libraries  for \n",
    "Natural Language Processing. NLTK supports stop word removal, and you can find the list \n",
    "of stop words in the  corpus  module. To remove stop words from a sentence, you can divide \n",
    "your text into words and then remove the word if it exits in the list of stop words provided \n",
    "by NLTK.'''\n",
    " \n",
    " \n",
    "w = word_tokenize(para)\n",
    "data_analysis = nltk.FreqDist(w)\n",
    "\n",
    "filter_words = dict([(m, n) for m, n in data_analysis.items() if len(m) > 3])\n",
    " \n",
    "for key in sorted(filter_words):\n",
    "    print(\"%s: %s\" % (key, filter_words[key]))"
   ]
  },
  {
   "cell_type": "code",
   "execution_count": null,
   "metadata": {},
   "outputs": [],
   "source": []
  }
 ],
 "metadata": {
  "colab": {
   "name": "Assignment 01-18K41A0530.ipynb",
   "provenance": []
  },
  "kernelspec": {
   "display_name": "Python 3",
   "language": "python",
   "name": "python3"
  },
  "language_info": {
   "codemirror_mode": {
    "name": "ipython",
    "version": 3
   },
   "file_extension": ".py",
   "mimetype": "text/x-python",
   "name": "python",
   "nbconvert_exporter": "python",
   "pygments_lexer": "ipython3",
   "version": "3.7.9"
  }
 },
 "nbformat": 4,
 "nbformat_minor": 1
}
